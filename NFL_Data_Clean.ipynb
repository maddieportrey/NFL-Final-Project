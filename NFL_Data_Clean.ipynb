{
  "nbformat": 4,
  "nbformat_minor": 0,
  "metadata": {
    "colab": {
      "provenance": [],
      "mount_file_id": "1uyFWzXSVx8os_KiJXZzuo6VX3aEWu2Tf",
      "authorship_tag": "ABX9TyOqgeXlIgOgpsHibI2jbBt7",
      "include_colab_link": true
    },
    "kernelspec": {
      "name": "python3",
      "display_name": "Python 3"
    },
    "language_info": {
      "name": "python"
    }
  },
  "cells": [
    {
      "cell_type": "markdown",
      "metadata": {
        "id": "view-in-github",
        "colab_type": "text"
      },
      "source": [
        "<a href=\"https://colab.research.google.com/github/maddieportrey/NFL-Final-Project/blob/main/NFL_Data_Clean.ipynb\" target=\"_parent\"><img src=\"https://colab.research.google.com/assets/colab-badge.svg\" alt=\"Open In Colab\"/></a>"
      ]
    },
    {
      "cell_type": "code",
      "execution_count": null,
      "metadata": {
        "id": "nXTFfgXxzwWV"
      },
      "outputs": [],
      "source": [
        "import pandas as pd\n",
        "import numpy as np\n",
        "import seaborn as sns"
      ]
    },
    {
      "cell_type": "code",
      "source": [
        "games = pd.read_json(\"/content/drive/MyDrive/games_1512362753.8735218.json\")"
      ],
      "metadata": {
        "id": "-vFVTHg1z1gI"
      },
      "execution_count": null,
      "outputs": []
    },
    {
      "cell_type": "code",
      "source": [
        "conf = pd.read_csv(\"/content/drive/MyDrive/database.csv\")\n",
        "profiles = pd.read_json(\"/content/drive/MyDrive/profiles_1512362725.022629.json\")"
      ],
      "metadata": {
        "id": "LJDYKO_uz4HK"
      },
      "execution_count": null,
      "outputs": []
    },
    {
      "cell_type": "code",
      "source": [
        "profiles = profiles[['player_id','name','college','position','height','weight']]\n",
        "games1 = games.groupby(['player_id','year']).sum(numeric_only=True).reset_index()\n",
        "games1 = games1[['player_id','year','passing_yards','rushing_yards','receiving_yards','passing_touchdowns','rushing_touchdowns','receiving_touchdowns','kick_return_yards','kick_return_touchdowns','punt_return_yards','punt_return_touchdowns','passing_attempts','passing_completions','rushing_attempts','receiving_targets','receiving_receptions']]\n",
        "players = pd.merge(profiles, games1, on='player_id', how='outer')\n",
        "\n",
        "conf = conf[['SCHOOL_NAME','NCAA_CONFERENCE','SPORT_NAME']]\n",
        "conf = conf[conf['SPORT_NAME'] == 'Football']\n",
        "conf['SCHOOL_NAME'] = conf['SCHOOL_NAME'].astype(str)\n",
        "conf = conf.assign(SCHOOL_NAME=conf['SCHOOL_NAME'].str.replace(r' University', '', regex=True))\n",
        "conf = conf.assign(SCHOOL_NAME=conf['SCHOOL_NAME'].str.replace(r'University of ', '', regex=True))\n",
        "total = pd.merge(players, conf, left_on = \"college\", right_on = \"SCHOOL_NAME\")"
      ],
      "metadata": {
        "id": "bzmTkuzVz8Ou"
      },
      "execution_count": null,
      "outputs": []
    },
    {
      "cell_type": "code",
      "source": [
        "total.to_csv('/content/drive/My Drive/total.csv', index=False)"
      ],
      "metadata": {
        "id": "HfQpQ-P1z8ry"
      },
      "execution_count": null,
      "outputs": []
    }
  ]
}